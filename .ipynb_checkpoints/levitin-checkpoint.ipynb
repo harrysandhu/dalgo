{
 "cells": [
  {
   "cell_type": "markdown",
   "metadata": {},
   "source": [
    "- ~~Selection Sort~~\n",
    "- ~~Bubble Sort~~\n",
    "- Decrease and Conquer\n",
    "- ~~Insertion Sort~~\n",
    "- Permutations and Combinations\n",
    "- Decrease by Constant Factor\n",
    "    - Binary Search\n",
    "    - Fake coin\n",
    "    - russian peasant\n",
    "    - josephus\n",
    "- Decrease by variable factor\n",
    "    - Median\n",
    "\n",
    "- Divide and Conquer\n",
    "    - ~~Merge sort~~\n",
    "    - BST\n",
    "        - Insertion and search\n",
    "    - Closest pair and convex hull\n",
    "- Balanced search trees\n",
    "    - AVL \n",
    "    - Heaps and Heap sort\n",
    "    "
   ]
  },
  {
   "cell_type": "code",
   "execution_count": 25,
   "metadata": {},
   "outputs": [],
   "source": [
    "a = [4, 2, 5, 8, 7, 0, 1, 0]\n",
    "\n",
    "def sel_sort(a):\n",
    "    n = len(a)\n",
    "    for i in range(n):\n",
    "        m = a[i]\n",
    "        x = i\n",
    "        for j in range(i+1, n, 1):\n",
    "            if a[j] <= m:\n",
    "                m = a[j]\n",
    "                x = j\n",
    "        temp = a[i]\n",
    "        a[i] = a[x]\n",
    "        a[x] = temp\n",
    "        \n",
    "    return a  \n"
   ]
  },
  {
   "cell_type": "code",
   "execution_count": 26,
   "metadata": {},
   "outputs": [
    {
     "data": {
      "text/plain": [
       "[0, 0, 1, 2, 4, 5, 7, 8]"
      ]
     },
     "execution_count": 26,
     "metadata": {},
     "output_type": "execute_result"
    }
   ],
   "source": [
    "sel_sort(a)"
   ]
  },
  {
   "cell_type": "code",
   "execution_count": 34,
   "metadata": {},
   "outputs": [],
   "source": [
    "a = [4, 2, 5, 8, 7, 0, 1, 0]\n",
    "def bsort(a):\n",
    "    n = len(a)\n",
    "    for i in range(n):\n",
    "        for j in range(0, n-i-1):\n",
    "            if a[j] >= a[j+1]:\n",
    "                temp = a[j]\n",
    "                a[j] = a[j+1]\n",
    "                a[j+1] = temp\n",
    "\n",
    "    return a"
   ]
  },
  {
   "cell_type": "code",
   "execution_count": 35,
   "metadata": {},
   "outputs": [
    {
     "data": {
      "text/plain": [
       "[0, 0, 1, 2, 4, 5, 7, 8]"
      ]
     },
     "execution_count": 35,
     "metadata": {},
     "output_type": "execute_result"
    }
   ],
   "source": [
    "bsort(a)"
   ]
  },
  {
   "cell_type": "code",
   "execution_count": 71,
   "metadata": {},
   "outputs": [],
   "source": [
    "a = [0, 4, 2, 5, 8, 7, 0, 1, 0,0,0,0,0, -1]\n",
    "def iSort(a):\n",
    "    n = len(a)\n",
    "    for i in range(1, n):\n",
    "        k = a[i]\n",
    "        j = i -1\n",
    "        while j >= 0 and a[j] >= k:\n",
    "            a[j+1] = a[j]\n",
    "            j -= 1\n",
    "        a[j+1] = k\n",
    "    return a\n",
    "\n"
   ]
  },
  {
   "cell_type": "code",
   "execution_count": 72,
   "metadata": {},
   "outputs": [
    {
     "data": {
      "text/plain": [
       "[-1, 1]"
      ]
     },
     "execution_count": 72,
     "metadata": {},
     "output_type": "execute_result"
    }
   ],
   "source": [
    "iSort(a)"
   ]
  },
  {
   "cell_type": "code",
   "execution_count": 267,
   "metadata": {},
   "outputs": [],
   "source": [
    "def merge(a, s, m, e):\n",
    "    l = a[s:m+1]\n",
    "    r = a[m+1:e+1]\n",
    "    x = []\n",
    "    i = 0\n",
    "    j = 0\n",
    "     \n",
    "    while i < len(l) and j < len(r):\n",
    "        if l[i] >= r[j]:\n",
    "            x.append(r[j])\n",
    "            j += 1\n",
    "        else:\n",
    "            x.append(l[i])\n",
    "            i += 1\n",
    "    \n",
    "    while j < len(r):\n",
    "        x.append(r[j])\n",
    "        j += 1\n",
    "        \n",
    "    while i < len(l):\n",
    "        x.append(l[i])\n",
    "        i += 1\n",
    "    \n",
    "    a[s:e+1] = x\n",
    "    \n",
    "\n",
    "        \n",
    "def mergeSort(a, s, e):\n",
    "    if e > s:\n",
    "        mid = (s+e) // 2\n",
    "        mergeSort(a, s, mid)\n",
    "        mergeSort(a, mid+1, e)\n",
    "        merge(a, s, mid, e)"
   ]
  },
  {
   "cell_type": "code",
   "execution_count": 270,
   "metadata": {
    "scrolled": false
   },
   "outputs": [
    {
     "data": {
      "text/plain": [
       "[0, 0, 1, 2, 4, 4, 5, 7, 8, 12, 41, 41, 124, 242, 412]"
      ]
     },
     "execution_count": 270,
     "metadata": {},
     "output_type": "execute_result"
    }
   ],
   "source": [
    "a = [4, 2, 5, 8, 7, 0, 1, 0, 242, 124, 12 ,412 ,41, 41,4 ]\n",
    "mergeSort(a, 0, len(a)-1)\n",
    "a"
   ]
  },
  {
   "cell_type": "code",
   "execution_count": 322,
   "metadata": {},
   "outputs": [
    {
     "ename": "IndentationError",
     "evalue": "expected an indented block (<ipython-input-322-618cb490c457>, line 3)",
     "output_type": "error",
     "traceback": [
      "\u001b[0;36m  File \u001b[0;32m\"<ipython-input-322-618cb490c457>\"\u001b[0;36m, line \u001b[0;32m3\u001b[0m\n\u001b[0;31m    def permute(n):\u001b[0m\n\u001b[0m    ^\u001b[0m\n\u001b[0;31mIndentationError\u001b[0m\u001b[0;31m:\u001b[0m expected an indented block\n"
     ]
    }
   ],
   "source": [
    "def has_mob(a):\n",
    "    \n",
    "\n",
    "def permute(n):\n",
    "    s = [-i for i in range(1, n+1)]\n",
    "\n",
    "#     while (k := get_mobile(s) != None):\n",
    "    print(get_mobile([-2, -1, 3, 4, 5]))\n",
    "\n",
    "        \n",
    "    \n",
    "    "
   ]
  },
  {
   "cell_type": "code",
   "execution_count": 320,
   "metadata": {},
   "outputs": [
    {
     "name": "stdout",
     "output_type": "stream",
     "text": [
      "-2\n"
     ]
    }
   ],
   "source": [
    "permute(3)"
   ]
  },
  {
   "cell_type": "code",
   "execution_count": 333,
   "metadata": {},
   "outputs": [],
   "source": [
    "x = [1, 2, 3, 4]\n",
    "a = []\n",
    "for i in range(len(x)):\n",
    "    "
   ]
  },
  {
   "cell_type": "code",
   "execution_count": 334,
   "metadata": {},
   "outputs": [
    {
     "data": {
      "text/plain": [
       "[[1],\n",
       " [2],\n",
       " [3],\n",
       " [4],\n",
       " [1, 2],\n",
       " [2],\n",
       " [3, 2],\n",
       " [4, 2],\n",
       " [1, 2, 3],\n",
       " [2, 3],\n",
       " [3, 2],\n",
       " [4, 2, 3]]"
      ]
     },
     "execution_count": 334,
     "metadata": {},
     "output_type": "execute_result"
    }
   ],
   "source": [
    "a"
   ]
  },
  {
   "cell_type": "code",
   "execution_count": 340,
   "metadata": {},
   "outputs": [],
   "source": [
    "def find(l, r):\n",
    "    x = []\n",
    "    for i in l:\n",
    "        i\n",
    "        \n",
    "    return True if prod < 0 else \n",
    "    \n",
    "def findNeg(a, s, e):\n",
    "    if e > s:\n",
    "        mid = (s+e) // 2\n",
    "        l = len(findNeg(a, s, mid))\n",
    "        r = len(findNeg(a, mid+1, e))\n",
    "        return len(find(l, r)) % 2 != 0\n",
    "    else:\n",
    "        return a[s:e+1]"
   ]
  },
  {
   "cell_type": "code",
   "execution_count": 341,
   "metadata": {},
   "outputs": [
    {
     "ename": "TypeError",
     "evalue": "'bool' object is not iterable",
     "output_type": "error",
     "traceback": [
      "\u001b[0;31m---------------------------------------------------------------------------\u001b[0m",
      "\u001b[0;31mTypeError\u001b[0m                                 Traceback (most recent call last)",
      "\u001b[0;32m<ipython-input-341-76c99b2e774d>\u001b[0m in \u001b[0;36m<module>\u001b[0;34m\u001b[0m\n\u001b[1;32m      1\u001b[0m \u001b[0ma\u001b[0m \u001b[0;34m=\u001b[0m \u001b[0;34m[\u001b[0m\u001b[0;34m-\u001b[0m\u001b[0;36m1\u001b[0m\u001b[0;34m,\u001b[0m \u001b[0;36m2\u001b[0m\u001b[0;34m,\u001b[0m \u001b[0;34m-\u001b[0m\u001b[0;36m3\u001b[0m\u001b[0;34m,\u001b[0m \u001b[0;36m4\u001b[0m\u001b[0;34m,\u001b[0m \u001b[0;34m-\u001b[0m\u001b[0;36m2\u001b[0m\u001b[0;34m,\u001b[0m \u001b[0;34m-\u001b[0m\u001b[0;36m1\u001b[0m\u001b[0;34m,\u001b[0m \u001b[0;36m0\u001b[0m\u001b[0;34m]\u001b[0m\u001b[0;34m\u001b[0m\u001b[0;34m\u001b[0m\u001b[0m\n\u001b[1;32m      2\u001b[0m \u001b[0ma\u001b[0m \u001b[0;34m=\u001b[0m \u001b[0;34m[\u001b[0m\u001b[0;36m1\u001b[0m\u001b[0;34m,\u001b[0m \u001b[0;36m2\u001b[0m\u001b[0;34m,\u001b[0m\u001b[0;36m3\u001b[0m\u001b[0;34m]\u001b[0m\u001b[0;34m\u001b[0m\u001b[0;34m\u001b[0m\u001b[0m\n\u001b[0;32m----> 3\u001b[0;31m \u001b[0mfindNeg\u001b[0m\u001b[0;34m(\u001b[0m\u001b[0ma\u001b[0m\u001b[0;34m,\u001b[0m \u001b[0;36m0\u001b[0m\u001b[0;34m,\u001b[0m \u001b[0mlen\u001b[0m\u001b[0;34m(\u001b[0m\u001b[0ma\u001b[0m\u001b[0;34m)\u001b[0m\u001b[0;34m-\u001b[0m\u001b[0;36m1\u001b[0m\u001b[0;34m)\u001b[0m\u001b[0;34m\u001b[0m\u001b[0;34m\u001b[0m\u001b[0m\n\u001b[0m",
      "\u001b[0;32m<ipython-input-340-8e3f9057eb16>\u001b[0m in \u001b[0;36mfindNeg\u001b[0;34m(a, s, e)\u001b[0m\n\u001b[1;32m     14\u001b[0m         \u001b[0ml\u001b[0m \u001b[0;34m=\u001b[0m \u001b[0mfindNeg\u001b[0m\u001b[0;34m(\u001b[0m\u001b[0ma\u001b[0m\u001b[0;34m,\u001b[0m \u001b[0ms\u001b[0m\u001b[0;34m,\u001b[0m \u001b[0mmid\u001b[0m\u001b[0;34m)\u001b[0m\u001b[0;34m\u001b[0m\u001b[0;34m\u001b[0m\u001b[0m\n\u001b[1;32m     15\u001b[0m         \u001b[0mr\u001b[0m \u001b[0;34m=\u001b[0m \u001b[0mfindNeg\u001b[0m\u001b[0;34m(\u001b[0m\u001b[0ma\u001b[0m\u001b[0;34m,\u001b[0m \u001b[0mmid\u001b[0m\u001b[0;34m+\u001b[0m\u001b[0;36m1\u001b[0m\u001b[0;34m,\u001b[0m \u001b[0me\u001b[0m\u001b[0;34m)\u001b[0m\u001b[0;34m\u001b[0m\u001b[0;34m\u001b[0m\u001b[0m\n\u001b[0;32m---> 16\u001b[0;31m         \u001b[0;32mreturn\u001b[0m \u001b[0mfind\u001b[0m\u001b[0;34m(\u001b[0m\u001b[0ml\u001b[0m\u001b[0;34m,\u001b[0m \u001b[0mr\u001b[0m\u001b[0;34m)\u001b[0m\u001b[0;34m\u001b[0m\u001b[0;34m\u001b[0m\u001b[0m\n\u001b[0m\u001b[1;32m     17\u001b[0m     \u001b[0;32melse\u001b[0m\u001b[0;34m:\u001b[0m\u001b[0;34m\u001b[0m\u001b[0;34m\u001b[0m\u001b[0m\n\u001b[1;32m     18\u001b[0m         \u001b[0;32mreturn\u001b[0m \u001b[0ma\u001b[0m\u001b[0;34m[\u001b[0m\u001b[0ms\u001b[0m\u001b[0;34m:\u001b[0m\u001b[0me\u001b[0m\u001b[0;34m+\u001b[0m\u001b[0;36m1\u001b[0m\u001b[0;34m]\u001b[0m\u001b[0;34m\u001b[0m\u001b[0;34m\u001b[0m\u001b[0m\n",
      "\u001b[0;32m<ipython-input-340-8e3f9057eb16>\u001b[0m in \u001b[0;36mfind\u001b[0;34m(l, r)\u001b[0m\n\u001b[1;32m      2\u001b[0m     \u001b[0mx\u001b[0m \u001b[0;34m=\u001b[0m \u001b[0;34m[\u001b[0m\u001b[0;34m]\u001b[0m\u001b[0;34m\u001b[0m\u001b[0;34m\u001b[0m\u001b[0m\n\u001b[1;32m      3\u001b[0m     \u001b[0mprod\u001b[0m \u001b[0;34m=\u001b[0m \u001b[0;36m1\u001b[0m\u001b[0;34m\u001b[0m\u001b[0;34m\u001b[0m\u001b[0m\n\u001b[0;32m----> 4\u001b[0;31m     \u001b[0;32mfor\u001b[0m \u001b[0mi\u001b[0m \u001b[0;32min\u001b[0m \u001b[0ml\u001b[0m\u001b[0;34m:\u001b[0m\u001b[0;34m\u001b[0m\u001b[0;34m\u001b[0m\u001b[0m\n\u001b[0m\u001b[1;32m      5\u001b[0m         \u001b[0mprod\u001b[0m \u001b[0;34m*=\u001b[0m \u001b[0mi\u001b[0m\u001b[0;34m\u001b[0m\u001b[0;34m\u001b[0m\u001b[0m\n\u001b[1;32m      6\u001b[0m     \u001b[0;32mfor\u001b[0m \u001b[0mi\u001b[0m \u001b[0;32min\u001b[0m \u001b[0mr\u001b[0m\u001b[0;34m:\u001b[0m\u001b[0;34m\u001b[0m\u001b[0;34m\u001b[0m\u001b[0m\n",
      "\u001b[0;31mTypeError\u001b[0m: 'bool' object is not iterable"
     ]
    }
   ],
   "source": [
    "a = [-1, 2, -3, 4, -2, -1, 0]\n",
    "a = [1, 2,3]\n",
    "findNeg(a, 0, len(a)-1)"
   ]
  },
  {
   "cell_type": "code",
   "execution_count": null,
   "metadata": {},
   "outputs": [],
   "source": [
    "ALGORITHM Find(L[], R[])\n",
    "    // returns all the negative integers from the 2 arrays into 1 array\n",
    "    // Input L: array of integers\n",
    "    // Input R: array of integers\n",
    "    // return array of negative integers\n",
    "\n",
    "    x <- []\n",
    "    n = length(L)\n",
    "    prod = 1\n",
    "    for i <- 0 to n-1 do\n",
    "        prod = prod * L[i]\n",
    "        \n",
    "    m = length(R)\n",
    "    for i <- 0 to m-1 do\n",
    "        prod = prod * R[i]\n",
    "    return True if prod < 0 else False\n",
    "\n",
    "ALGORITHM FindNeg(A[0..n-1], s, e)\n",
    "    // Uses Divide and conquer to find all the elements less than zero.\n",
    "    // Input A[0..n-1] array of n integers\n",
    "    // Input s int, the starting index\n",
    "    // Input e int, end index\n",
    "    // Output array of negative integers, if A has integers\n",
    "\n",
    "    if e > s do\n",
    "        mid <- (s + e) / 2\n",
    "        left <- FindNeg(A, s, mid)\n",
    "        right <- FindNeg(A, mid+1, e)\n",
    "        return find(left, right)\n",
    "    else do\n",
    "        X[e+1 - s] = {}\n",
    "        j <- 0\n",
    "        for i <- s to e do\n",
    "            X[j] <- A[i]\n",
    "            j <- j + 1\n",
    "        "
   ]
  },
  {
   "cell_type": "code",
   "execution_count": 346,
   "metadata": {},
   "outputs": [
    {
     "name": "stdout",
     "output_type": "stream",
     "text": [
      "First Test\n",
      "aaa\n",
      "aab\n",
      "aba\n",
      "abb\n",
      "baa\n",
      "bab\n",
      "bba\n",
      "bbb\n",
      "\n",
      "Second Test\n",
      "a\n",
      "b\n",
      "c\n",
      "d\n"
     ]
    }
   ],
   "source": [
    "def printAllKLength(s, k): \n",
    "  \n",
    "    n = len(s)  \n",
    "    printAllKLengthRec(s, \"\", n, k) \n",
    "\n",
    "def printAllKLengthRec(s, prefix, n, k): \n",
    "      \n",
    "    if (k == 0) : \n",
    "        print(prefix) \n",
    "        return\n",
    "  \n",
    "    for i in range(n): \n",
    "        newPrefix = prefix + s[i] \n",
    "        printAllKLengthRec(s, newPrefix, n, k - 1) \n",
    "        \n",
    "if __name__ == \"__main__\": \n",
    "      \n",
    "    print(\"First Test\") \n",
    "    set1 = ['a', 'b'] \n",
    "    k = 3\n",
    "    printAllKLength(set1, k) \n",
    "      \n",
    "    print(\"\\nSecond Test\") \n",
    "    set2 = ['a', 'b', 'c', 'd'] \n",
    "    k = 1\n",
    "    printAllKLength(set2, k) \n",
    "  \n",
    "\n",
    "\n"
   ]
  },
  {
   "cell_type": "code",
   "execution_count": 356,
   "metadata": {},
   "outputs": [],
   "source": [
    "def permute(n):\n",
    "    s = [\"H\", \"T\"]\n",
    "    print_all(s, \"\", 2, n)\n",
    "\n",
    "def print_all(s, pre, k, n):\n",
    "    if (n == 0) : \n",
    "        print(pre) \n",
    "        return None\n",
    "    \n",
    "    for i in range(k): \n",
    "        new = pre + s[i] \n",
    "        print_all(s, new, k, n - 1) \n",
    "        "
   ]
  },
  {
   "cell_type": "code",
   "execution_count": 357,
   "metadata": {},
   "outputs": [
    {
     "name": "stdout",
     "output_type": "stream",
     "text": [
      "HHHH\n",
      "HHHT\n",
      "HHTH\n",
      "HHTT\n",
      "HTHH\n",
      "HTHT\n",
      "HTTH\n",
      "HTTT\n",
      "THHH\n",
      "THHT\n",
      "THTH\n",
      "THTT\n",
      "TTHH\n",
      "TTHT\n",
      "TTTH\n",
      "TTTT\n"
     ]
    }
   ],
   "source": [
    "permute(4)"
   ]
  },
  {
   "cell_type": "code",
   "execution_count": null,
   "metadata": {},
   "outputs": [],
   "source": [
    "ALGORITHM Permute(n):\n",
    "    s <- [\"H\", \"T\"]\n",
    "    PrintALL(s, \"\", 2, n)\n",
    "\n",
    "ALRORITHM PrintALL(s, pre, k, n):\n",
    "    if (n == 0) do\n",
    "        print(pre) \n",
    "        return NULL\n",
    "    \n",
    "    for i <- 0 to k do \n",
    "        new <- pre + s[i] \n",
    "        print_all(s, new, k, n - 1) "
   ]
  },
  {
   "cell_type": "code",
   "execution_count": null,
   "metadata": {},
   "outputs": [],
   "source": [
    "int allMasks = (1 << N);\n",
    "\n",
    "for i <= 1 to allMasks do\n",
    "    for j <- 0 to N do\n",
    "        if ((i & (1 << j)) > 0)\n",
    "           print((j + 1) + \" \");\n",
    "\n",
    "    print()\n"
   ]
  },
  {
   "cell_type": "code",
   "execution_count": null,
   "metadata": {},
   "outputs": [],
   "source": []
  },
  {
   "cell_type": "code",
   "execution_count": null,
   "metadata": {},
   "outputs": [],
   "source": []
  },
  {
   "cell_type": "code",
   "execution_count": null,
   "metadata": {},
   "outputs": [],
   "source": []
  }
 ],
 "metadata": {
  "kernelspec": {
   "display_name": "Python 3",
   "language": "python",
   "name": "python3"
  },
  "language_info": {
   "codemirror_mode": {
    "name": "ipython",
    "version": 3
   },
   "file_extension": ".py",
   "mimetype": "text/x-python",
   "name": "python",
   "nbconvert_exporter": "python",
   "pygments_lexer": "ipython3",
   "version": "3.8.5"
  }
 },
 "nbformat": 4,
 "nbformat_minor": 4
}
