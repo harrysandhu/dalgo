{
 "cells": [
  {
   "cell_type": "markdown",
   "id": "competitive-arrest",
   "metadata": {},
   "source": [
    "\n",
    "#### Some problems involving stacks\n",
    "\n",
    "- Identification:\n",
    "```\n",
    "    for (i - >n)\n",
    "        for (j = f(x)) -> j is dependent on i ? use stacks\n",
    "```\n",
    "\n",
    "- How to approach:\n",
    "```    \n",
    "    j = i |-----> n ? stack em up from END. [\"right problems\"]\n",
    "    j = 0 <-----| i ? stack em up from START. [\"left problems\"]\n",
    "```\n",
    "1. NGR : right\n",
    "2. NGL : left\n",
    "3. NSL : left\n",
    "4. NSR : left\n",
    "5. Stock span : left\n",
    "6. MAH: Max. area histogram (left, right)\n",
    "7. MABM: Max. area in binary matrix (left, right, mah)"
   ]
  },
  {
   "cell_type": "code",
   "execution_count": 4,
   "id": "crucial-referral",
   "metadata": {},
   "outputs": [],
   "source": [
    "# NGR : Nearest greater to right\n",
    "\n",
    "\"\"\"\n",
    "    IN:   1 3 2 4\n",
    "   OUT:   3 4 4 -1\n",
    "    \n",
    "    IN:  1 3 0 0 1 2 4\n",
    "   OUT:  3 4 1 1 2 4 -1\n",
    "\n",
    "\"\"\"\n",
    "\n",
    "from collections import deque\n",
    " \n"
   ]
  },
  {
   "cell_type": "code",
   "execution_count": 5,
   "id": "enclosed-typing",
   "metadata": {},
   "outputs": [],
   "source": [
    "def NGR(arr: list) -> list:\n",
    "    v = []\n",
    "    s = deque()\n",
    "    for i in reversed(range(len(arr))):\n",
    "        if len(s) == 0:\n",
    "            v.append(-1)\n",
    "        elif arr[i] < s[0]:\n",
    "            v.append(s[0])\n",
    "        elif arr[i] >= s[0]:\n",
    "            while len(s) > 0 and arr[i] >= s[0]:\n",
    "                s.popleft()\n",
    "            if len(s) > 0:\n",
    "                v.append(s[0])\n",
    "            else:\n",
    "                v.append(-1)\n",
    "            \n",
    "        s.appendleft(arr[i])\n",
    "    return v[::-1]\n",
    "    \n",
    "            "
   ]
  },
  {
   "cell_type": "code",
   "execution_count": 6,
   "id": "atmospheric-scheduling",
   "metadata": {},
   "outputs": [],
   "source": [
    "a = [1, 3, 2, 4]\n",
    "x = NGR(a)"
   ]
  },
  {
   "cell_type": "code",
   "execution_count": 7,
   "id": "eleven-japanese",
   "metadata": {},
   "outputs": [
    {
     "name": "stdout",
     "output_type": "stream",
     "text": [
      "[3, 4, 4, -1]\n"
     ]
    }
   ],
   "source": [
    "print(x)"
   ]
  },
  {
   "cell_type": "code",
   "execution_count": 8,
   "id": "plain-summit",
   "metadata": {},
   "outputs": [],
   "source": [
    "a = [1, 3, 0, 0, 1, 2, 4]\n",
    "x = NGR(a)"
   ]
  },
  {
   "cell_type": "code",
   "execution_count": 9,
   "id": "interesting-affect",
   "metadata": {},
   "outputs": [
    {
     "data": {
      "text/plain": [
       "[3, 4, 1, 1, 2, 4, -1]"
      ]
     },
     "execution_count": 9,
     "metadata": {},
     "output_type": "execute_result"
    }
   ],
   "source": [
    "x"
   ]
  },
  {
   "cell_type": "code",
   "execution_count": null,
   "id": "animated-metropolitan",
   "metadata": {},
   "outputs": [],
   "source": []
  },
  {
   "cell_type": "code",
   "execution_count": 10,
   "id": "sorted-feature",
   "metadata": {},
   "outputs": [],
   "source": [
    "# NGL : Nearest greater to left\n",
    "\n",
    "\"\"\"\n",
    "    IN: 5  1  3  2  4\n",
    "   OUT:   -1 -1  3 -1\n",
    "    \n",
    "    2, 3, 1, 5\n",
    "    \n",
    "    IN:  1   3   0   0   1   2   4\n",
    "   OUT:  -1 -1   3   3   3   3  -1\n",
    "\n",
    "\"\"\"\n",
    "\n",
    "def NGL(arr: list) -> list:\n",
    "    v = []\n",
    "    s = deque()\n",
    "    for i in range(len(arr)):\n",
    "        if len(s) == 0:\n",
    "            v.append(-1)\n",
    "        elif arr[i] < s[0]:\n",
    "            v.append(s[0])\n",
    "        elif arr[i] >= s[0]:\n",
    "            while len(s) > 0 and arr[i] >= s[0]:\n",
    "                s.popleft()\n",
    "            if len(s) == 0:\n",
    "                v.append(-1)\n",
    "            else:\n",
    "                v.append(s[0])\n",
    "        s.appendleft(arr[i])\n",
    "    return v\n",
    "            \n"
   ]
  },
  {
   "cell_type": "code",
   "execution_count": 11,
   "id": "afraid-cambridge",
   "metadata": {},
   "outputs": [],
   "source": [
    "a = [5, 1, 3, 2, 4]\n",
    "x = NGL(a)"
   ]
  },
  {
   "cell_type": "code",
   "execution_count": 12,
   "id": "distinguished-induction",
   "metadata": {},
   "outputs": [
    {
     "data": {
      "text/plain": [
       "[-1, 5, 5, 3, 5]"
      ]
     },
     "execution_count": 12,
     "metadata": {},
     "output_type": "execute_result"
    }
   ],
   "source": [
    "x"
   ]
  },
  {
   "cell_type": "code",
   "execution_count": 13,
   "id": "dramatic-honduras",
   "metadata": {},
   "outputs": [],
   "source": [
    "\n",
    "\n",
    "# NSL : Nearest smaller element (to left)/ nearest smaller to left\n",
    "\n",
    "\"\"\"\n",
    "    IN: 5  1  3  2  4\n",
    "   OUT:-1  -1 3  1  2 \n",
    "    \n",
    "\n",
    "    \n",
    "    IN:  1   3   0   0   1   2   4\n",
    "   OUT:  -1 -1   3   3   3   3  -1\n",
    "\n",
    "\"\"\"\n",
    "\n",
    "def NSL(arr: list) -> list:\n",
    "    v = []\n",
    "    s = deque()\n",
    "    for i in range(len(arr)):\n",
    "        if len(s) == 0:\n",
    "            v.append(-1)\n",
    "        elif arr[i] > s[0]:\n",
    "            v.append(s[0])\n",
    "        elif arr[i] <= s[0]:\n",
    "            while len(s) > 0 and arr[i] <= s[0]:\n",
    "                s.popleft()\n",
    "            if len(s) == 0:\n",
    "                v.append(-1)\n",
    "            else:\n",
    "                v.append(s[0])\n",
    "        s.appendleft(arr[i])\n",
    "    return v\n",
    "    \n",
    "\n"
   ]
  },
  {
   "cell_type": "code",
   "execution_count": 14,
   "id": "cloudy-western",
   "metadata": {},
   "outputs": [],
   "source": [
    "a = [4, 5, 2, 10, 8]\n",
    "x = NSL(a)"
   ]
  },
  {
   "cell_type": "code",
   "execution_count": 15,
   "id": "coated-happening",
   "metadata": {},
   "outputs": [
    {
     "data": {
      "text/plain": [
       "[-1, 4, -1, 2, 2]"
      ]
     },
     "execution_count": 15,
     "metadata": {},
     "output_type": "execute_result"
    }
   ],
   "source": [
    "x"
   ]
  },
  {
   "cell_type": "code",
   "execution_count": null,
   "id": "occasional-builder",
   "metadata": {},
   "outputs": [],
   "source": []
  },
  {
   "cell_type": "code",
   "execution_count": 16,
   "id": "oriented-scanner",
   "metadata": {},
   "outputs": [],
   "source": [
    "\n",
    "\n",
    "# NSR : Nearest smaller element (to RIGHT)/ nearest smaller to RIGHT\n",
    "\n",
    "\"\"\"\n",
    "    IN: 5  1  3  2  4\n",
    "   OUT: 1 -1  2 -1 -1 \n",
    "    \n",
    "\n",
    "    \n",
    "    IN:  1   3   0   0   1   2   4\n",
    "   OUT:  -1 -1   3   3   3   3  -1\n",
    "\n",
    "\"\"\"\n",
    "\n",
    "def NSR(arr: list) -> list:\n",
    "    v = []\n",
    "    s = deque()\n",
    "    for i in reversed(range(len(arr))):\n",
    "        if len(s) == 0:\n",
    "            v.append(-1)\n",
    "        elif s[0] < arr[i]:\n",
    "            v.append(s[0])\n",
    "        elif s[0] >= arr[i]:\n",
    "            while len(s) > 0 and s[0] >= arr[i]:\n",
    "                s.popleft()\n",
    "            if len(s) == 0:\n",
    "                v.append(-1)\n",
    "            else:\n",
    "                v.append(s[0])\n",
    "        s.appendleft(arr[i])\n",
    "    return v[::-1]\n",
    " \n"
   ]
  },
  {
   "cell_type": "code",
   "execution_count": 17,
   "id": "initial-istanbul",
   "metadata": {},
   "outputs": [],
   "source": [
    "a = [5, 1, 3, 2, 4]\n",
    "x = NSR(a)"
   ]
  },
  {
   "cell_type": "code",
   "execution_count": 18,
   "id": "aware-burton",
   "metadata": {},
   "outputs": [
    {
     "data": {
      "text/plain": [
       "[1, -1, 2, -1, -1]"
      ]
     },
     "execution_count": 18,
     "metadata": {},
     "output_type": "execute_result"
    }
   ],
   "source": [
    "x"
   ]
  },
  {
   "cell_type": "code",
   "execution_count": null,
   "id": "covered-dominant",
   "metadata": {},
   "outputs": [],
   "source": []
  },
  {
   "cell_type": "code",
   "execution_count": 19,
   "id": "breeding-european",
   "metadata": {},
   "outputs": [],
   "source": [
    "\"\"\"\n",
    "    Stock span problem.\n",
    "    find consecutive smaller elements to the immediate left of an element\n",
    "    \n",
    "    In: 100  80  60  70  60  75  85\n",
    "   Out:  1   1   1   2   1   4   6\n",
    "    \n",
    "\"\"\"\n",
    "\n",
    "def stockSpan(arr: list) -> list:\n",
    "    s = deque()\n",
    "    v = []\n",
    "    for i in range(len(arr)):\n",
    "        if len(s) == 0:\n",
    "            v.append(1)\n",
    "        elif s[0] > arr[i]:\n",
    "            v.append(1)\n",
    "        elif s[0] <= arr[i]:\n",
    "            while len(s) > 0 and s[0] <= arr[i]:\n",
    "                s.popleft()\n",
    "            v.append((i - len(s)) + 1)\n",
    "        s.appendleft(arr[i])\n",
    "    return v\n",
    "               "
   ]
  },
  {
   "cell_type": "code",
   "execution_count": 20,
   "id": "pointed-depression",
   "metadata": {},
   "outputs": [
    {
     "data": {
      "text/plain": [
       "[1, 1, 1, 2, 1, 4, 6]"
      ]
     },
     "execution_count": 20,
     "metadata": {},
     "output_type": "execute_result"
    }
   ],
   "source": [
    "stockSpan([100, 80, 60, 70, 60, 75, 85])"
   ]
  },
  {
   "cell_type": "code",
   "execution_count": null,
   "id": "going-priest",
   "metadata": {},
   "outputs": [],
   "source": []
  },
  {
   "cell_type": "code",
   "execution_count": 68,
   "id": "stretch-memory",
   "metadata": {},
   "outputs": [],
   "source": [
    "\"\"\"\n",
    "    maximum area histogram.\n",
    "    in : 6  2  5  4  5  1  6\n",
    "    out: 12 (4*3)\n",
    "    \n",
    "\"\"\"\n",
    "# nsr with index\n",
    "def NSR_wi(arr:list) -> list:\n",
    "    v = []\n",
    "    s = deque()\n",
    "    for i in reversed(range(len(arr))):\n",
    "        if len(s) == 0:\n",
    "            v.append((-1, len(arr)))\n",
    "        elif s[0][0] < arr[i]:\n",
    "            v.append((s[0]))\n",
    "        elif s[0][0] >= arr[i]:\n",
    "            while len(s) > 0 and s[0][0] >= arr[i]:\n",
    "                s.popleft()\n",
    "            if len(s) == 0:\n",
    "                v.append((-1, len(arr)))\n",
    "            else:\n",
    "                v.append((s[0]))\n",
    "        s.appendleft((arr[i], i))\n",
    "    return v[::-1]\n",
    "\n",
    "def NSL_wi(arr: list) -> list:\n",
    "    v = []\n",
    "    s = deque()\n",
    "    for i in range(len(arr)):\n",
    "        if len(s) == 0:\n",
    "            v.append((-1, -1))\n",
    "        elif s[0][0] < arr[i]:\n",
    "            v.append(s[0])\n",
    "        elif s[0][0] >= arr[i]:\n",
    "            while len(s) > 0 and s[0][0] >= arr[i]:\n",
    "                s.popleft()\n",
    "            if len(s) == 0:\n",
    "                v.append((-1, -1))\n",
    "            else:\n",
    "                v.append((s[0]))\n",
    "        s.appendleft((arr[i], i))\n",
    "    return v\n",
    "\n",
    "def mah(arr: list) -> int:\n",
    "    nsr = NSR_wi(arr)\n",
    "    nsl = NSL_wi(arr)\n",
    "    widths = [nsr[i][1] - nsl[i][1] -1 for i in range(len(nsr))]\n",
    "    areas = [arr[i]*widths[i] for i in range(len(widths))]\n",
    "    return max(areas)\n",
    "    "
   ]
  },
  {
   "cell_type": "code",
   "execution_count": 69,
   "id": "decent-norwegian",
   "metadata": {},
   "outputs": [
    {
     "data": {
      "text/plain": [
       "12"
      ]
     },
     "execution_count": 69,
     "metadata": {},
     "output_type": "execute_result"
    }
   ],
   "source": [
    "mah([6,2,5,4,5,1,6])"
   ]
  },
  {
   "cell_type": "code",
   "execution_count": 95,
   "id": "corrected-shopper",
   "metadata": {},
   "outputs": [],
   "source": [
    "\"\"\"\n",
    "Max area in a binary matrix\n",
    "in: \n",
    "        0 1 1 0 \n",
    "        1 1 1 1 \n",
    "        1 1 1 1\n",
    "        1 1 0 0 \n",
    "out: 8\n",
    "\n",
    "\"\"\"\n",
    "def MABM(arr: list) -> int:\n",
    "    h = [0 for x in arr]\n",
    "    m = 0\n",
    "    for i in range(len(arr)):\n",
    "        h = [h[j] + arr[i][j] if arr[i][j] != 0 else 0 for j in range(len(h))]\n",
    "        h_area = mah(h)\n",
    "        m = h_area if h_area >= m else m\n",
    "    return m"
   ]
  },
  {
   "cell_type": "code",
   "execution_count": 96,
   "id": "prescribed-moisture",
   "metadata": {},
   "outputs": [
    {
     "data": {
      "text/plain": [
       "8"
      ]
     },
     "execution_count": 96,
     "metadata": {},
     "output_type": "execute_result"
    }
   ],
   "source": [
    "MABM([\n",
    "   [0,1,1,0],\n",
    "   [1,1,1,1],\n",
    "   [1,1,1,1],\n",
    "   [1,1,0,0],\n",
    "])"
   ]
  },
  {
   "cell_type": "code",
   "execution_count": null,
   "id": "exotic-mechanics",
   "metadata": {},
   "outputs": [],
   "source": []
  },
  {
   "cell_type": "code",
   "execution_count": null,
   "id": "eleven-guidance",
   "metadata": {},
   "outputs": [],
   "source": []
  }
 ],
 "metadata": {
  "kernelspec": {
   "display_name": "Python 3",
   "language": "python",
   "name": "python3"
  },
  "language_info": {
   "codemirror_mode": {
    "name": "ipython",
    "version": 3
   },
   "file_extension": ".py",
   "mimetype": "text/x-python",
   "name": "python",
   "nbconvert_exporter": "python",
   "pygments_lexer": "ipython3",
   "version": "3.8.6"
  }
 },
 "nbformat": 4,
 "nbformat_minor": 5
}
